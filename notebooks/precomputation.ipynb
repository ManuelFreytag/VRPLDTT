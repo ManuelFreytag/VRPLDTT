{
 "cells": [
  {
   "cell_type": "code",
   "execution_count": 4,
   "metadata": {},
   "outputs": [],
   "source": [
    "import math\n",
    "import numpy as np\n",
    "from numba import jit\n",
    "from numba import njit\n",
    "from numba import prange\n",
    "from scipy.optimize import fsolve"
   ]
  },
  {
   "cell_type": "markdown",
   "metadata": {},
   "source": [
    "# PRECOMPUTATION\n",
    "\n",
    "Precomputation is everything that would be part of every heuristik anyway.\n",
    "This means data that would have to be accessed\n",
    "\n",
    "**This notebook is used to investigate several computational variants for precomputation**"
   ]
  },
  {
   "cell_type": "markdown",
   "metadata": {},
   "source": [
    "# 0) Replicate solutions of paper\n",
    "This goal of this notebook is to understand and replicate the velocity calculation.\n",
    "\n",
    "This will be one of the key components of the master thesis and impact the heuristical performance to a great deal.\n",
    "\n",
    "## 0.1 Replicate velocity calculation with understandable formula"
   ]
  },
  {
   "cell_type": "code",
   "execution_count": 2,
   "metadata": {},
   "outputs": [],
   "source": [
    "def forces_logical(velocity, mass, slope):\n",
    "    \"\"\"\n",
    "    Test if force calculation is correct\n",
    "    Calculate the travel times in understandable way\n",
    "    Returns:\n",
    "\n",
    "    \"\"\"\n",
    "    # normalize velocity to ms\n",
    "    velocity_norm = velocity/3.6\n",
    "    \n",
    "    # calculate the 3 main resisting forces\n",
    "    air_resistance = (1.18*1.18*0.83)/2*(velocity_norm**2)\n",
    "    rolling_resistance = (0.01*mass*9.81*np.cos(np.arctan(slope)))\n",
    "    gravity = mass*9.81*np.sin(np.arctan(slope))\n",
    "\n",
    "    # calculate teh final power\n",
    "    power = (air_resistance+rolling_resistance+gravity)*velocity_norm/0.95\n",
    "    return air_resistance, rolling_resistance, gravity, power\n"
   ]
  },
  {
   "cell_type": "markdown",
   "metadata": {},
   "source": [
    "Lets check if we can replicate the force values from the paper"
   ]
  },
  {
   "cell_type": "code",
   "execution_count": 5,
   "metadata": {},
   "outputs": [
    {
     "ename": "NameError",
     "evalue": "name 'forces_logical' is not defined",
     "output_type": "error",
     "traceback": [
      "\u001b[1;31m---------------------------------------------------------------------------\u001b[0m",
      "\u001b[1;31mNameError\u001b[0m                                 Traceback (most recent call last)",
      "\u001b[1;32m<ipython-input-5-d314c144c690>\u001b[0m in \u001b[0;36m<module>\u001b[1;34m()\u001b[0m\n\u001b[0;32m      4\u001b[0m \u001b[0mslopes\u001b[0m \u001b[1;33m=\u001b[0m \u001b[1;33m[\u001b[0m\u001b[1;36m0\u001b[0m\u001b[1;33m,\u001b[0m \u001b[1;36m0.02\u001b[0m\u001b[1;33m,\u001b[0m \u001b[1;36m0.05\u001b[0m\u001b[1;33m,\u001b[0m \u001b[1;36m0.08\u001b[0m\u001b[1;33m,\u001b[0m \u001b[1;36m0.1\u001b[0m\u001b[1;33m]\u001b[0m\u001b[1;33m\u001b[0m\u001b[0m\n\u001b[0;32m      5\u001b[0m \u001b[1;33m\u001b[0m\u001b[0m\n\u001b[1;32m----> 6\u001b[1;33m \u001b[0mprint\u001b[0m\u001b[1;33m(\u001b[0m\u001b[0mforces_logical\u001b[0m\u001b[1;33m(\u001b[0m\u001b[1;36m15\u001b[0m\u001b[1;33m,\u001b[0m \u001b[1;36m150\u001b[0m\u001b[1;33m,\u001b[0m \u001b[1;36m0.05\u001b[0m\u001b[1;33m)\u001b[0m\u001b[1;33m)\u001b[0m\u001b[1;33m\u001b[0m\u001b[0m\n\u001b[0m\u001b[0;32m      7\u001b[0m \u001b[0mprint\u001b[0m\u001b[1;33m(\u001b[0m\u001b[0mforces_logical\u001b[0m\u001b[1;33m(\u001b[0m\u001b[1;36m25\u001b[0m\u001b[1;33m,\u001b[0m \u001b[1;36m100\u001b[0m\u001b[1;33m,\u001b[0m \u001b[1;36m0.05\u001b[0m\u001b[1;33m)\u001b[0m\u001b[1;33m)\u001b[0m\u001b[1;33m\u001b[0m\u001b[0m\n",
      "\u001b[1;31mNameError\u001b[0m: name 'forces_logical' is not defined"
     ]
    }
   ],
   "source": [
    "power = 340\n",
    "velocities = [15, 20, 25, 30]\n",
    "masses = [100, 150, 200, 250]\n",
    "slopes = [0, 0.02, 0.05, 0.08, 0.1]\n",
    "\n",
    "print(forces_logical(15, 150, 0.05))\n",
    "print(forces_logical(25, 100, 0.05))"
   ]
  },
  {
   "cell_type": "markdown",
   "metadata": {},
   "source": [
    "The slight deviations are because of an error by the author of the original paper"
   ]
  },
  {
   "cell_type": "markdown",
   "metadata": {},
   "source": [
    "# 1 Speed calculation"
   ]
  },
  {
   "cell_type": "markdown",
   "metadata": {},
   "source": [
    "This section shows to ways to calculate the speed. One exact way and one optimized for speed.\n",
    "\n",
    "Both methods would probably be useable for precomputation"
   ]
  },
  {
   "cell_type": "markdown",
   "metadata": {},
   "source": [
    "## 1.1) Exact speed calculation"
   ]
  },
  {
   "cell_type": "code",
   "execution_count": 17,
   "metadata": {},
   "outputs": [],
   "source": [
    "POWER = 350\n",
    "AIR_RESISTANCE_CONSTANT = (1.2225*1.18*0.83)/2/0.95\n",
    "\n",
    "@njit(fastmath=True)\n",
    "def velocity_function(velocity, mass, slope, power):\n",
    "    norm_velocity = velocity/3.6\n",
    "    rolling_resistance = (0.01*mass*9.81*np.cos(np.arctan(slope)))\n",
    "    gravity = mass*9.81*np.sin(np.arctan(slope))\n",
    "\n",
    "    return AIR_RESISTANCE_CONSTANT*(norm_velocity)**3+rolling_resistance*(norm_velocity/0.95)+gravity*(norm_velocity/0.95)-power\n",
    "\n",
    "def calculate_velocity_precicse(mass, slope):\n",
    "    velocity_result = fsolve(func=velocity_function, x0=20, args=(mass, slope, POWER), full_output=0)\n",
    "    if velocity_result > 25:\n",
    "        return 25\n",
    "    else:\n",
    "        return velocity_result"
   ]
  },
  {
   "cell_type": "code",
   "execution_count": 18,
   "metadata": {},
   "outputs": [
    {
     "name": "stdout",
     "output_type": "stream",
     "text": [
      "41.2 µs ± 21.6 µs per loop (mean ± std. dev. of 7 runs, 5000 loops each)\n"
     ]
    }
   ],
   "source": [
    "%timeit -n 5000 calculate_velocity_precicse(340, 0)"
   ]
  },
  {
   "cell_type": "code",
   "execution_count": 21,
   "metadata": {},
   "outputs": [],
   "source": []
  },
  {
   "cell_type": "markdown",
   "metadata": {},
   "source": [
    "## 1.2) Specialized speed computation"
   ]
  },
  {
   "cell_type": "code",
   "execution_count": 48,
   "metadata": {},
   "outputs": [],
   "source": [
    "POWER = 350\n",
    "\n",
    "DRAG_COEFFICIENT = 1.18\n",
    "RIDER_SURFACE = 0.83\n",
    "RHO = 1.225\n",
    "COEFFICIENT_ROLLING = 0.01\n",
    "\n",
    "AIR_RESISTANCE_CONSTANT = (1.225*1.18*0.83)/2/0.95\n",
    "\n",
    "@njit(fastmath=True)\n",
    "def calculate_velocity_fast(mass, slope, accuracy=1):\n",
    "    \"\"\"\n",
    "    We know that There must be a certain limit to the speed and will never drop below 0.  \n",
    "    This property can be used to calculate the velocity.  \n",
    "\n",
    "    As this specialized function can be transformed into njit  \n",
    "    Interestingly enough this method is slower than **scipy.optimize import fsolve** if we don't use the numba compiler.  \n",
    "    \n",
    "    Args:\n",
    "        mass:   The mass of the vehicle\n",
    "        slope:  The slope of the street on which the driver must drive\n",
    "        \n",
    "    \"\"\"\n",
    "    rolling_resistance = (COEFFICIENT_ROLLING*mass*9.81*np.cos(np.arctan(slope)))\n",
    "    gravity = mass*9.81*np.sin(np.arctan(slope))\n",
    "\n",
    "    # calculate the velocity\n",
    "    velocity = 0\n",
    "    while True:\n",
    "        if AIR_RESISTANCE_CONSTANT*velocity**3+rolling_resistance*(velocity/0.95)+gravity*(velocity/0.95)-POWER < 0:\n",
    "            velocity += accuracy\n",
    "        else:\n",
    "            break\n",
    "            \n",
    "    velocity = velocity*3.6\n",
    "    if velocity > 25:\n",
    "        return 25\n",
    "    else:\n",
    "        return velocity\n"
   ]
  },
  {
   "cell_type": "code",
   "execution_count": 49,
   "metadata": {},
   "outputs": [
    {
     "name": "stdout",
     "output_type": "stream",
     "text": [
      "999 ns ± 22 ns per loop (mean ± std. dev. of 7 runs, 1000000 loops each)\n"
     ]
    }
   ],
   "source": [
    "%timeit calculate_velocity_fast(340, 0, accuracy=0.01)"
   ]
  },
  {
   "cell_type": "code",
   "execution_count": 70,
   "metadata": {},
   "outputs": [
    {
     "data": {
      "text/plain": [
       "23.219999999999665"
      ]
     },
     "execution_count": 70,
     "metadata": {},
     "output_type": "execute_result"
    }
   ],
   "source": [
    "calculate_velocity_fast(340, -0.002)"
   ]
  },
  {
   "cell_type": "code",
   "execution_count": 63,
   "metadata": {},
   "outputs": [],
   "source": [
    "@njit(fastmath=True)\n",
    "def calculate_velocity_fast(mass, slope, accuracy=0.01):\n",
    "    \"\"\"\n",
    "    We know that There must be a certain limit to the speed and will never drop below 0.\n",
    "    This property can be used to calculate the velocity.\n",
    "\n",
    "    As this specialized function can be transformed into njit\n",
    "    Interestingly enough this method is slower than **scipy.optimize import fsolve** if we don't use the numba compiler.\n",
    "\n",
    "    Args:\n",
    "        mass:   The mass of the vehicle\n",
    "        slope:  The slope of the street on which the driver must drive\n",
    "\n",
    "    \"\"\"\n",
    "    rolling_resistance = (COEFFICIENT_ROLLING * mass * 9.81 * np.cos(np.arctan(slope)))\n",
    "    gravity = mass * 9.81 * np.sin(np.arctan(slope))\n",
    "\n",
    "    # calculate the velocity\n",
    "    velocity = 0 # start at 25 because that is the max speed!\n",
    "    while True:\n",
    "        if AIR_RESISTANCE_CONSTANT*velocity**3 + rolling_resistance*(velocity/0.95)+gravity*(velocity/0.95)-POWER < 0:\n",
    "            velocity += accuracy\n",
    "        else:\n",
    "            break\n",
    "\n",
    "    velocity = velocity*3.6\n",
    "    if velocity > 25:\n",
    "        return 25\n",
    "    else:\n",
    "        return velocity"
   ]
  },
  {
   "cell_type": "code",
   "execution_count": 64,
   "metadata": {},
   "outputs": [
    {
     "name": "stdout",
     "output_type": "stream",
     "text": [
      "987 ns ± 10.5 ns per loop (mean ± std. dev. of 7 runs, 1000000 loops each)\n"
     ]
    }
   ],
   "source": [
    "%timeit calculate_velocity_fast(340, 0, accuracy=0.01)"
   ]
  },
  {
   "cell_type": "code",
   "execution_count": 65,
   "metadata": {},
   "outputs": [
    {
     "data": {
      "text/plain": [
       "21.707999999999696"
      ]
     },
     "execution_count": 65,
     "metadata": {},
     "output_type": "execute_result"
    }
   ],
   "source": [
    "calculate_velocity_fast(340, 0, accuracy=0.01)"
   ]
  },
  {
   "cell_type": "markdown",
   "metadata": {},
   "source": [
    "# 2 Time calculation"
   ]
  },
  {
   "cell_type": "markdown",
   "metadata": {},
   "source": [
    "**Question:** Does the trickle down njit compatibility make a large impact?"
   ]
  },
  {
   "cell_type": "code",
   "execution_count": null,
   "metadata": {},
   "outputs": [],
   "source": [
    "def time_calculation()"
   ]
  },
  {
   "cell_type": "code",
   "execution_count": 163,
   "metadata": {},
   "outputs": [
    {
     "data": {
      "text/plain": [
       "78.27839999999891"
      ]
     },
     "execution_count": 163,
     "metadata": {},
     "output_type": "execute_result"
    }
   ],
   "source": [
    "velocity_function(340, 0, POWER)*3.6"
   ]
  },
  {
   "cell_type": "code",
   "execution_count": null,
   "metadata": {},
   "outputs": [],
   "source": [
    "def calculate_time_matrix(customers, blabla, gap_size)"
   ]
  },
  {
   "cell_type": "markdown",
   "metadata": {},
   "source": [
    "# 3 Distance calculation (Test cases)"
   ]
  },
  {
   "cell_type": "code",
   "execution_count": 1,
   "metadata": {},
   "outputs": [],
   "source": [
    "import pandas as pd"
   ]
  },
  {
   "cell_type": "code",
   "execution_count": 2,
   "metadata": {},
   "outputs": [],
   "source": [
    "?pd.read_excel"
   ]
  },
  {
   "cell_type": "code",
   "execution_count": 2,
   "metadata": {},
   "outputs": [],
   "source": [
    "from scipy import constants"
   ]
  },
  {
   "cell_type": "code",
   "execution_count": 3,
   "metadata": {},
   "outputs": [
    {
     "data": {
      "text/plain": [
       "6.67408e-11"
      ]
     },
     "execution_count": 3,
     "metadata": {},
     "output_type": "execute_result"
    }
   ],
   "source": [
    "constants.gravitational_constant"
   ]
  },
  {
   "cell_type": "code",
   "execution_count": 44,
   "metadata": {},
   "outputs": [
    {
     "data": {
      "text/plain": [
       "array([[[0., 0., 0.],\n",
       "        [0., 0., 0.]],\n",
       "\n",
       "       [[0., 0., 0.],\n",
       "        [0., 0., 0.]]])"
      ]
     },
     "execution_count": 44,
     "metadata": {},
     "output_type": "execute_result"
    }
   ],
   "source": [
    "np.zeros((2,2,3))"
   ]
  },
  {
   "cell_type": "code",
   "execution_count": 73,
   "metadata": {},
   "outputs": [
    {
     "data": {
      "text/plain": [
       "True"
      ]
     },
     "execution_count": 73,
     "metadata": {},
     "output_type": "execute_result"
    }
   ],
   "source": [
    "t = 1\n",
    "t is not None"
   ]
  },
  {
   "cell_type": "code",
   "execution_count": null,
   "metadata": {},
   "outputs": [],
   "source": []
  }
 ],
 "metadata": {
  "kernelspec": {
   "display_name": "Python 3",
   "language": "python",
   "name": "python3"
  },
  "language_info": {
   "codemirror_mode": {
    "name": "ipython",
    "version": 3
   },
   "file_extension": ".py",
   "mimetype": "text/x-python",
   "name": "python",
   "nbconvert_exporter": "python",
   "pygments_lexer": "ipython3",
   "version": "3.6.5"
  }
 },
 "nbformat": 4,
 "nbformat_minor": 2
}
