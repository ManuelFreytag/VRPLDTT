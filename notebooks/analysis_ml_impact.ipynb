{
 "cells": [
  {
   "cell_type": "markdown",
   "metadata": {},
   "source": [
    "# Retrain kwargs manager with other inputs!"
   ]
  },
  {
   "cell_type": "markdown",
   "metadata": {
    "hide_input": false
   },
   "source": [
    "## 0) Setup"
   ]
  },
  {
   "cell_type": "code",
   "execution_count": 1,
   "metadata": {
    "ExecuteTime": {
     "end_time": "2019-04-20T09:53:12.231726Z",
     "start_time": "2019-04-20T09:53:10.949264Z"
    },
    "code_folding": [],
    "hide_input": true,
    "scrolled": true
   },
   "outputs": [],
   "source": [
    "import sys\n",
    "sys.path.insert(0, 'C:\\\\Users\\\\manuf\\\\Documents\\\\Repositories\\\\metaheuristic-vrpldtt\\\\alns\\\\CompAnalysis')\n",
    "\n",
    "\n",
    "import copy\n",
    "import pickle\n",
    "from os import listdir, path\n",
    "from os.path import isfile, join\n",
    "\n",
    "# custom python import\n",
    "import numpy as np\n",
    "from sklearn import tree\n",
    "from sklearn.tree import _tree\n",
    "from reg_tree_tuning.parameter_tuning import RegressionTreeParameterTuner\n",
    "\n",
    "# c++ imports\n",
    "from ALNSv2 import ALNS\n",
    "from ALNSv2 import ALNSData\n",
    "\n",
    "import reg_tree_tuning"
   ]
  },
  {
   "cell_type": "markdown",
   "metadata": {
    "hide_input": true
   },
   "source": [
    "### setup helper functions"
   ]
  },
  {
   "cell_type": "code",
   "execution_count": 2,
   "metadata": {
    "ExecuteTime": {
     "end_time": "2019-04-20T09:53:12.264382Z",
     "start_time": "2019-04-20T09:53:12.233420Z"
    },
    "code_folding": [
     1,
     14,
     35,
     48
    ],
    "hide_input": false,
    "scrolled": true
   },
   "outputs": [],
   "source": [
    "# 1) Rebuild the tree and object!\n",
    "def get_solutions(path):\n",
    "    files = []\n",
    "    for f in listdir(path):\n",
    "        try:\n",
    "            if f[-4:] == \".pkl\":\n",
    "                raw_file = open(join(path, f), 'rb')\n",
    "                data = pickle.load(raw_file)\n",
    "                files.append(data)\n",
    "        except TypeError:\n",
    "            logging.WARN(f\"File {f} is not a pickleable object. SKIP\")\n",
    "    return files\n",
    "\n",
    "def dummy_coding(value, val_domain):\n",
    "    ret_values = np.zeros(len(val_domain))\n",
    "                      \n",
    "    for j, y in enumerate(val_domain):\n",
    "        if y == value:\n",
    "            ret_values[j] = 1\n",
    "            break\n",
    "                \n",
    "    return ret_values\n",
    "\n",
    "def dummy_coding_arr(values, val_domain):\n",
    "    ret_values = np.zeros(len(val_domain))\n",
    "    \n",
    "    for x in values:\n",
    "        for j, y in enumerate(val_domain):\n",
    "            if x == y:\n",
    "                ret_values[j] = 1\n",
    "            \n",
    "    return ret_values\n",
    "\n",
    "\n",
    "def get_modified_z_scores(y):\n",
    "    \"\"\"\n",
    "    3 options:\n",
    "     - MAD is 0 -> use MEAN\n",
    "     - If MEAN is also 0 -> return 0s\n",
    "\n",
    "    \"\"\"\n",
    "    median_y = np.median(y)\n",
    "    median_absolute_deviation_y = round(\n",
    "        np.median([np.abs(y - median_y) for y in y]), 5)\n",
    "\n",
    "    if median_absolute_deviation_y != 0:\n",
    "        return [0.6745 * (val - median_y) / median_absolute_deviation_y for val in y]\n",
    "    else:\n",
    "        standard_deviation = round(np.std(y), 5)\n",
    "        if standard_deviation != 0:\n",
    "            return [0.6745 * (val - median_y) / standard_deviation for val in y]\n",
    "        else:\n",
    "            return np.zeros(len(y))\n",
    "\n",
    "\n",
    "def get_modified_z_scores_ids(y, ids):\n",
    "    data_tracking = {aid: [] for aid in set(ids)}\n",
    "\n",
    "    for pos, aid in enumerate(ids):\n",
    "        data_tracking[aid].append(pos)\n",
    "\n",
    "    y_ret = y.copy()\n",
    "    for inst_id in data_tracking:\n",
    "        sol_ids = data_tracking[inst_id]\n",
    "        y_ret[sol_ids] = get_modified_z_scores(y[sol_ids])\n",
    "\n",
    "    return y_ret\n",
    "\n",
    "def optimize_kwargs_manager(tree, kwargs_manager):\n",
    "            \"\"\"\n",
    "            Get the rule-set of a tree of type sklearn.tree.tree.DecisionTreeRegressor\n",
    "             leading to the leaf with the best value\n",
    "\n",
    "            Args:\n",
    "                tree:               Instances of scikit tree\n",
    "                kwargs_manager:     Current keyword arguments manager whose\n",
    "                                    domains should be adjusted according to the tree\n",
    "\n",
    "            \"\"\"\n",
    "            # get node with biggest value\n",
    "            tree_ = tree.tree_\n",
    "\n",
    "            # first entry of the array is the lower bound, the second is the upper bound\n",
    "\n",
    "            def recursive_child_rules_quality(node):\n",
    "                \"\"\"\n",
    "                This function recursively iterates through the tree and adjusts the keyword arguments manager\n",
    "                according to the best leaf found.\n",
    "\n",
    "                IMPORTANT:\n",
    "                The last rule is most likely the most strict rule.\n",
    "                Therefore, if we set one rule once we are not allowed to set it again! (rule_change_indicator)\n",
    "\n",
    "                Args:\n",
    "                    node: Child leaf to be selected\n",
    "\n",
    "                Returns: improved rule_set\n",
    "\n",
    "                \"\"\"\n",
    "                nonlocal kwargs_manager, tree_\n",
    "                feature_id = tree_.feature[node]\n",
    "                threshold = tree_.threshold[node]\n",
    "\n",
    "                if tree_.feature[node] != _tree.TREE_UNDEFINED:\n",
    "                    values_1, kwargs_man1, rule_change_indicator1 = recursive_child_rules_quality(\n",
    "                        tree_.children_left[node])\n",
    "                    values_2, kwargs_man2, rule_change_indicator2 = recursive_child_rules_quality(\n",
    "                        tree_.children_right[node])\n",
    "\n",
    "                    # select the best leaf according\n",
    "                    # set the rule set according to the best leaf\n",
    "                    if values_1 < values_2:\n",
    "                        # we must use deep copy to ensure that both the dictionary as the lists are copied instances\n",
    "                        values, best_kwargs_man, rule_change_indicator = values_1, copy.deepcopy(\n",
    "                            kwargs_man1), copy.deepcopy(\n",
    "                            rule_change_indicator1)\n",
    "                        # check if the rule was already changed if not change and save the change\n",
    "                        # append new rule (children left means smaller equal -> new upper bound)\n",
    "                        if not rule_change_indicator[feature_id][1]:\n",
    "                            best_kwargs_man.attributes[feature_id].val_range[1] = threshold\n",
    "                            rule_change_indicator[feature_id][1] = True\n",
    "                    else:\n",
    "                        values, best_kwargs_man, rule_change_indicator = values_2, copy.deepcopy(\n",
    "                            kwargs_man2), copy.deepcopy(\n",
    "                            rule_change_indicator2)\n",
    "                        # check if the rule was already changed if not change and save the change\n",
    "                        # append new rule (children left means bigger -> new lower bound)\n",
    "                        if not rule_change_indicator[feature_id][0]:\n",
    "                            best_kwargs_man.attributes[feature_id].val_range[0] = threshold\n",
    "                            rule_change_indicator[feature_id][0] = True\n",
    "                    return values, best_kwargs_man, rule_change_indicator\n",
    "                else:  # end of leaf, base version\n",
    "                    rule_change_indicator = {aid: [False, False] for aid in range(len(kwargs_manager.attributes))}\n",
    "                    return tree_.value[node][0][0], kwargs_manager, rule_change_indicator\n",
    "\n",
    "            # build each branch and select the rules of the branch with the better objective value\n",
    "            # return the new rule set!\n",
    "            return recursive_child_rules_quality(0)[0:2]"
   ]
  },
  {
   "cell_type": "markdown",
   "metadata": {
    "code_folding": [],
    "hide_input": false
   },
   "source": [
    "## 1) Import data and set it up for training"
   ]
  },
  {
   "cell_type": "code",
   "execution_count": 3,
   "metadata": {
    "ExecuteTime": {
     "end_time": "2019-04-20T09:53:14.190978Z",
     "start_time": "2019-04-20T09:53:12.267736Z"
    },
    "scrolled": true
   },
   "outputs": [],
   "source": [
    "path = \"C:\\\\Users\\\\manuf\\\\OneDrive\\\\Dokumente\\\\Universitaet\\\\Masterthesis\\\\data\\\\1_tuning_results\\\\vrpldtt\"\n",
    "solutions = get_solutions(join(path, \"2_search_space\"))\n",
    "values = np.array([sol[\"metrics\"][\"value\"]for sol in solutions])\n",
    "ids = np.array([sol[\"data_id\"] for sol in solutions])\n",
    "\n",
    "# Import data with dummy coding\n",
    "# all_x = np.array([[*dummy_coding_arr(sol[\"parameter\"][\"destroy_operators\"],[\"random_destroy\", \"route_destroy\", \"demand_destroy\", \"time_destroy\",\n",
    "#                                              \"node_pair_destroy\",\n",
    "#                                              \"shaw_destroy\", \"worst_destroy\", \"distance_similarity\",\n",
    "#                                              \"window_similarity\",\n",
    "#                                              \"demand_similarity\"]),\n",
    "#                    *dummy_coding_arr(sol[\"parameter\"][\"repair_operators\"],  [\"2_regret\", \"3_regret\", \"5_regret\", \"basic_greedy\", \"random_greedy\",\n",
    "#                                             \"deep_greedy\", \"beta_hybrid\"])\n",
    "#                   ] for sol in solutions])\n",
    "\n",
    "all_x = np.array([[sol[\"parameter\"][\"shakeup_log\"],\n",
    "                  sol[\"parameter\"][\"mean_removal_log\"]] for sol in solutions])\n",
    "\n",
    "all_y = get_modified_z_scores_ids(values, ids)"
   ]
  },
  {
   "cell_type": "markdown",
   "metadata": {},
   "source": [
    "## 2) Train tree"
   ]
  },
  {
   "cell_type": "code",
   "execution_count": 18,
   "metadata": {
    "ExecuteTime": {
     "end_time": "2019-04-20T09:53:14.212600Z",
     "start_time": "2019-04-20T09:53:14.191961Z"
    },
    "scrolled": true
   },
   "outputs": [
    {
     "data": {
      "text/plain": [
       "DecisionTreeRegressor(criterion='mse', max_depth=None, max_features=None,\n",
       "           max_leaf_nodes=None, min_impurity_decrease=0.0,\n",
       "           min_impurity_split=None, min_samples_leaf=10,\n",
       "           min_samples_split=20, min_weight_fraction_leaf=0.0,\n",
       "           presort=False, random_state=None, splitter='best')"
      ]
     },
     "execution_count": 18,
     "metadata": {},
     "output_type": "execute_result"
    }
   ],
   "source": [
    "tree_kwargs = {'criterion': \"mse\", 'splitter': \"best\", 'max_depth': None,\n",
    "               'min_samples_split': 20, 'min_samples_leaf': 10}\n",
    "\n",
    "reg_tree = tree.DecisionTreeRegressor(**tree_kwargs)\n",
    "reg_tree.fit(all_x, all_y)"
   ]
  },
  {
   "cell_type": "markdown",
   "metadata": {},
   "source": [
    "# 2.1 Plot tree"
   ]
  },
  {
   "cell_type": "code",
   "execution_count": 19,
   "metadata": {
    "ExecuteTime": {
     "end_time": "2019-04-20T09:53:14.468305Z",
     "start_time": "2019-04-20T09:53:14.216249Z"
    }
   },
   "outputs": [
    {
     "name": "stdout",
     "output_type": "stream",
     "text": [
      "Qt: Untested Windows version 6.2 detected!\r\n",
      "C:/Program Files (x86)/Graphviz2.38/bin/gvedit.exe: illegal option -- 'T'\r\n",
      "C:/Program Files (x86)/Graphviz2.38/bin/gvedit.exe : option -T unrecognized - ignored\r\n",
      "C:/Program Files (x86)/Graphviz2.38/bin/gvedit.exe: illegal option -- 'p'\r\n",
      "C:/Program Files (x86)/Graphviz2.38/bin/gvedit.exe : option -p unrecognized - ignored\r\n",
      "C:/Program Files (x86)/Graphviz2.38/bin/gvedit.exe: illegal option -- 'n'\r\n",
      "C:/Program Files (x86)/Graphviz2.38/bin/gvedit.exe : option -n unrecognized - ignored\r\n",
      "C:/Program Files (x86)/Graphviz2.38/bin/gvedit.exe: illegal option -- 'g'\r\n",
      "C:/Program Files (x86)/Graphviz2.38/bin/gvedit.exe : option -g unrecognized - ignored\r\n",
      "Could not open attribute name file \"../share/graphviz/gvedit/attributes.txt\" for reading\r\n",
      "\n"
     ]
    },
    {
     "data": {
      "text/plain": [
       "b''"
      ]
     },
     "execution_count": 19,
     "metadata": {},
     "output_type": "execute_result"
    }
   ],
   "source": [
    "from sklearn.externals.six import StringIO  \n",
    "from IPython.display import Image  \n",
    "from sklearn.tree import export_graphviz\n",
    "import pydotplus\n",
    "import importlib\n",
    "importlib.reload(pydotplus)\n",
    "\n",
    "dot_data = StringIO()\n",
    "export_graphviz(reg_tree, out_file=dot_data,  \n",
    "                feature_names=[f\"shakeup log\", \"mean removal log beta\"],\n",
    "                filled=True, rounded=True,\n",
    "                special_characters=True)\n",
    "graph = pydotplus.graph_from_dot_data(dot_data.getvalue()) \n",
    "graph.create_png()"
   ]
  },
  {
   "cell_type": "code",
   "execution_count": 20,
   "metadata": {},
   "outputs": [
    {
     "name": "stderr",
     "output_type": "stream",
     "text": [
      "C:\\Program Files (x86)\\Microsoft Visual Studio\\Shared\\Anaconda3_86\\lib\\site-packages\\ipykernel_launcher.py:13: RuntimeWarning: divide by zero encountered in log\n",
      "  del sys.path[0]\n",
      "C:\\Program Files (x86)\\Microsoft Visual Studio\\Shared\\Anaconda3_86\\lib\\site-packages\\ipykernel_launcher.py:13: RuntimeWarning: invalid value encountered in log\n",
      "  del sys.path[0]\n",
      "C:\\Program Files (x86)\\Microsoft Visual Studio\\Shared\\Anaconda3_86\\lib\\site-packages\\ipykernel_launcher.py:22: RuntimeWarning: invalid value encountered in log\n"
     ]
    },
    {
     "data": {
      "image/png": "[encoded data removed]",
      "text/plain": [
       "<Figure size 1811.02x900 with 1 Axes>"
      ]
     },
     "metadata": {},
     "output_type": "display_data"
    }
   ],
   "source": [
    "import numpy as np\n",
    "import matplotlib.pyplot as plt\n",
    "from sklearn.tree import DecisionTreeClassifier\n",
    "plt.style.use((\"grayscale\",\"paper_quer\"))\n",
    "\n",
    "# Parameters\n",
    "plot_colors = \"ryb\"\n",
    "plot_step = 0.01\n",
    "\n",
    "reg_tree\n",
    "# We only take the two corresponding features\n",
    "X = all_x\n",
    "\n",
    "x_min, x_max = X[:, 0].min() - 1, X[:, 0].max() + 1\n",
    "y_min, y_max = X[:, 1].min() - 1, X[:, 1].max() + 1\n",
    "xx, yy = np.meshgrid(np.arange(x_min, x_max, plot_step),\n",
    "                     np.arange(y_min, y_max, plot_step))\n",
    "\n",
    "plt.tight_layout(h_pad=0.5, w_pad=0.5, pad=2.5)\n",
    "\n",
    "Z = np.log(reg_tree.predict(np.c_[xx.ravel(), yy.ravel()]))\n",
    "Z = Z.reshape(xx.shape)\n",
    "cs = plt.contourf(xx, yy, Z, cmap=plt.cm.Greys)\n",
    "\n",
    "plt.xlabel(f\"shakeup log: $ ς $\")\n",
    "plt.ylabel(f\"mean removal log: $ \\lambda $\")\n",
    "# plt.legend(loc='lower right', borderpad=0, handletextpad=0)\n",
    "plt.axis(\"tight\")\n",
    "plt.show()"
   ]
  },
  {
   "cell_type": "code",
   "execution_count": 14,
   "metadata": {},
   "outputs": [
    {
     "data": {
      "text/plain": [
       "array([ 5.19433643,  5.19433643, -0.39378161, ...,         nan,\n",
       "               nan,         nan])"
      ]
     },
     "execution_count": 14,
     "metadata": {},
     "output_type": "execute_result"
    }
   ],
   "source": [
    "y"
   ]
  },
  {
   "cell_type": "markdown",
   "metadata": {},
   "source": [
    "## 3) Train kwargs manager and check values"
   ]
  },
  {
   "cell_type": "code",
   "execution_count": 26,
   "metadata": {
    "ExecuteTime": {
     "end_time": "2019-04-01T13:57:36.118623Z",
     "start_time": "2019-04-01T13:57:36.109647Z"
    },
    "scrolled": true
   },
   "outputs": [],
   "source": [
    "new_man = reg_tree_tuning.kwargs_manager.KwargsManager()\n",
    "new_man.fit({\"initial_temperature\": [\"random_destroy\", \"route_destroy\", \"demand_destroy\", \"time_destroy\",\n",
    "                                             \"node_pair_destroy\",\n",
    "                                             \"shaw_destroy\", \"worst_destroy\", \"distance_similarity\",\n",
    "                                             \"window_similarity\",\n",
    "                                             \"demand_similarity\"],\n",
    "            \"repair_operators\": [\"2_regret\", \"3_regret\", \"5_regret\", \"basic_greedy\", \"random_greedy\",\n",
    "                                            \"deep_greedy\", \"beta_hybrid\"]})\n",
    "\n",
    "new_man.fit({\"initial_temperature\": (100, 1, 0.1, 0.01, 0.001, 0.0001),\n",
    "             \"cooling_rate\": (0.99, 0.995, 0.999, 0.99975, 0.9999)})"
   ]
  },
  {
   "cell_type": "code",
   "execution_count": 27,
   "metadata": {
    "ExecuteTime": {
     "end_time": "2019-04-01T13:57:39.188110Z",
     "start_time": "2019-04-01T13:57:38.722523Z"
    },
    "hide_input": false,
    "scrolled": false
   },
   "outputs": [
    {
     "data": {
      "text/plain": [
       "[{'name': 'initial_temperature', 'val_range': [0, 1], '__dummyname__': 100, 'category': 100, 'multi': False},\n",
       " {'name': 'initial_temperature', 'val_range': [0, 1], '__dummyname__': 1, 'category': 1, 'multi': False},\n",
       " {'name': 'initial_temperature', 'val_range': [0, 1], '__dummyname__': 0.1, 'category': 0.1, 'multi': False},\n",
       " {'name': 'initial_temperature', 'val_range': [0, 1], '__dummyname__': 0.01, 'category': 0.01, 'multi': False},\n",
       " {'name': 'initial_temperature', 'val_range': [0, 1], '__dummyname__': 0.001, 'category': 0.001, 'multi': False},\n",
       " {'name': 'initial_temperature', 'val_range': [0, 1], '__dummyname__': 0.0001, 'category': 0.0001, 'multi': False},\n",
       " {'name': 'cooling_rate', 'val_range': [0, 1], '__dummyname__': 0.99, 'category': 0.99, 'multi': False},\n",
       " {'name': 'cooling_rate', 'val_range': [0, 1], '__dummyname__': 0.995, 'category': 0.995, 'multi': False},\n",
       " {'name': 'cooling_rate', 'val_range': [0, 1], '__dummyname__': 0.999, 'category': 0.999, 'multi': False},\n",
       " {'name': 'cooling_rate', 'val_range': [0, 1], '__dummyname__': 0.99975, 'category': 0.99975, 'multi': False},\n",
       " {'name': 'cooling_rate', 'val_range': [0, 1], '__dummyname__': 0.9999, 'category': 0.9999, 'multi': False}]"
      ]
     },
     "execution_count": 27,
     "metadata": {},
     "output_type": "execute_result"
    }
   ],
   "source": [
    "optimize_kwargs_manager(reg_tree, new_man)[1].attributes"
   ]
  },
  {
   "cell_type": "code",
   "execution_count": 85,
   "metadata": {
    "ExecuteTime": {
     "end_time": "2019-03-31T16:53:35.911939Z",
     "start_time": "2019-03-31T16:53:35.156932Z"
    },
    "hide_input": false
   },
   "outputs": [
    {
     "data": {
      "text/plain": [
       "[{'name': 'destroy_operators', 'val_range': [0, 1], '__dummyname__': 'random_destroy', 'category': 'random_destroy', 'multi': True},\n",
       " {'name': 'destroy_operators', 'val_range': [0, 0.5], '__dummyname__': 'route_destroy', 'category': 'route_destroy', 'multi': True},\n",
       " {'name': 'destroy_operators', 'val_range': [0.5, 1], '__dummyname__': 'demand_destroy', 'category': 'demand_destroy', 'multi': True},\n",
       " {'name': 'destroy_operators', 'val_range': [0, 0.5], '__dummyname__': 'time_destroy', 'category': 'time_destroy', 'multi': True},\n",
       " {'name': 'destroy_operators', 'val_range': [0.5, 1], '__dummyname__': 'node_pair_destroy', 'category': 'node_pair_destroy', 'multi': True},\n",
       " {'name': 'destroy_operators', 'val_range': [0.5, 1], '__dummyname__': 'shaw_destroy', 'category': 'shaw_destroy', 'multi': True},\n",
       " {'name': 'destroy_operators', 'val_range': [0, 1], '__dummyname__': 'worst_destroy', 'category': 'worst_destroy', 'multi': True},\n",
       " {'name': 'destroy_operators', 'val_range': [0.5, 1], '__dummyname__': 'distance_similarity', 'category': 'distance_similarity', 'multi': True},\n",
       " {'name': 'destroy_operators', 'val_range': [0, 1], '__dummyname__': 'window_similarity', 'category': 'window_similarity', 'multi': True},\n",
       " {'name': 'destroy_operators', 'val_range': [0, 1], '__dummyname__': 'demand_similarity', 'category': 'demand_similarity', 'multi': True},\n",
       " {'name': 'repair_operators', 'val_range': [0.5, 1], '__dummyname__': '2_regret', 'category': '2_regret', 'multi': True},\n",
       " {'name': 'repair_operators', 'val_range': [0, 1], '__dummyname__': '3_regret', 'category': '3_regret', 'multi': True},\n",
       " {'name': 'repair_operators', 'val_range': [0.5, 1], '__dummyname__': '5_regret', 'category': '5_regret', 'multi': True},\n",
       " {'name': 'repair_operators', 'val_range': [0, 1], '__dummyname__': 'basic_greedy', 'category': 'basic_greedy', 'multi': True},\n",
       " {'name': 'repair_operators', 'val_range': [0, 1], '__dummyname__': 'random_greedy', 'category': 'random_greedy', 'multi': True},\n",
       " {'name': 'repair_operators', 'val_range': [0, 0.5], '__dummyname__': 'deep_greedy', 'category': 'deep_greedy', 'multi': True},\n",
       " {'name': 'repair_operators', 'val_range': [0.5, 1], '__dummyname__': 'beta_hybrid', 'category': 'beta_hybrid', 'multi': True}]"
      ]
     },
     "execution_count": 85,
     "metadata": {},
     "output_type": "execute_result"
    }
   ],
   "source": [
    "optimize_kwargs_manager(reg_tree, new_man)[1].attributes"
   ]
  },
  {
   "cell_type": "markdown",
   "metadata": {},
   "source": [
    "# 99) Special relativity analysis\n",
    "Get relative values of all reward and functor values!"
   ]
  },
  {
   "cell_type": "code",
   "execution_count": 40,
   "metadata": {
    "ExecuteTime": {
     "end_time": "2019-03-19T15:09:19.525259Z",
     "start_time": "2019-03-19T15:09:19.347692Z"
    }
   },
   "outputs": [
    {
     "data": {
      "image/png": "[encoded data removed]",
      "text/plain": [
       "<Figure size 432x288 with 1 Axes>"
      ]
     },
     "metadata": {},
     "output_type": "display_data"
    }
   ],
   "source": [
    "rel_vals = []\n",
    "for row in all_x:\n",
    "    new_row = []\n",
    "    for i, rew1 in enumerate(row[0:-1]):\n",
    "        for rew2 in row[i+1:-1]:\n",
    "            new_row.append(rew1/rew2)\n",
    "            \n",
    "    new_row.append(row[-1])\n",
    "    rel_vals.append(new_row)\n",
    "    \n",
    "# fig, axs = plt.subplots(1, 5, figsize=(50, 10), dpi=200)\n",
    "titles = [f\"\\sigma_{1} vs \\sigma_{2}\",\n",
    "\"best_vs_divers\",\n",
    "\"best_vs_unqiue\",\n",
    "\"best_vs_penalty\",\n",
    "\"better_vs_divers\",\n",
    "\"better_vs_unique\",\n",
    "\"better_vs_penalty\",\n",
    "\"divers_vs_unique\",\n",
    "\"divers_vs_penalty\",\n",
    "\"unique_vs_penalty\"]"
   ]
  },
  {
   "cell_type": "code",
   "execution_count": null,
   "metadata": {},
   "outputs": [],
   "source": []
  }
 ],
 "metadata": {
  "kernelspec": {
   "display_name": "Python 3",
   "language": "python",
   "name": "python3"
  },
  "language_info": {
   "codemirror_mode": {
    "name": "ipython",
    "version": 3
   },
   "file_extension": ".py",
   "mimetype": "text/x-python",
   "name": "python",
   "nbconvert_exporter": "python",
   "pygments_lexer": "ipython3",
   "version": "3.6.5"
  }
 },
 "nbformat": 4,
 "nbformat_minor": 2
}
